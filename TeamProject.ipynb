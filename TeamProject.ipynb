{
  "nbformat": 4,
  "nbformat_minor": 0,
  "metadata": {
    "colab": {
      "name": "TeamProject.ipynb",
      "provenance": [],
      "include_colab_link": true
    },
    "kernelspec": {
      "name": "python3",
      "display_name": "Python 3"
    }
  },
  "cells": [
    {
      "cell_type": "markdown",
      "metadata": {
        "id": "view-in-github",
        "colab_type": "text"
      },
      "source": [
        "<a href=\"https://colab.research.google.com/github/cturano18/team-project/blob/master/TeamProject.ipynb\" target=\"_parent\"><img src=\"https://colab.research.google.com/assets/colab-badge.svg\" alt=\"Open In Colab\"/></a>"
      ]
    },
    {
      "cell_type": "markdown",
      "metadata": {
        "id": "Kw5PZBtl0Ob6",
        "colab_type": "text"
      },
      "source": [
        "# COVID-19 Data"
      ]
    },
    {
      "cell_type": "markdown",
      "metadata": {
        "id": "iXWAmSVB0Rno",
        "colab_type": "text"
      },
      "source": [
        "Contributors:\n",
        "\n",
        "\n",
        "*   Colleen Turano\n",
        "*   Zoe Evans\n",
        "*   Gianna Giacalone\n",
        "\n",
        "\n"
      ]
    },
    {
      "cell_type": "markdown",
      "metadata": {
        "id": "WpaW-i5l0ZHn",
        "colab_type": "text"
      },
      "source": [
        "## Background"
      ]
    },
    {
      "cell_type": "markdown",
      "metadata": {
        "id": "E4VKsOvP0eev",
        "colab_type": "text"
      },
      "source": [
        "In this project we are displaying the data sets from the disease COVID-19. By using graphing techniques and visualizations we can interpret the data so that readers can see how COVID-19 is affecting the United States. Whether it be the amount of cases within the United States or the amount of deaths, the data within this graph can display the topics at hold. Throughout this project we can learn how to present the data in a way that is clear and highlights the specific data points that are to be addressed. It is important for the reader to easily identify where everything is on the graph and to receive the data in a way that is easily accessible. With the data provided we can make assumptions based on what is happening and what can be expected to increase or decrease in the world around this case. These assumptions can represent people's reactions to the disease and the situation at hand. This response to the data is what we conclude to happen in the lives of people and the world. With the information provided to us by the sources we chose, we can create such a graph that joins this data together of the United State with the months of March and April. These months were crucial to use due to the data being so high in numbers and can visibly be seen that these months had the most changes day to day. This project with the assumptions we made and the graph we created can display this data and project our assumptions clearly. "
      ]
    },
    {
      "cell_type": "markdown",
      "metadata": {
        "id": "7d8vfcGufV0_",
        "colab_type": "text"
      },
      "source": [
        "### Goal"
      ]
    },
    {
      "cell_type": "markdown",
      "metadata": {
        "id": "e1jKSGTjfY2H",
        "colab_type": "text"
      },
      "source": [
        "Our goal is to display the changes of data for COVID 19. We want to see the latest trends up to this date. Our goal is also to clearly show and display the data clearly so it's visble to the reader to see and interpret the data correctly. "
      ]
    },
    {
      "cell_type": "markdown",
      "metadata": {
        "id": "GOxy_TvCfi54",
        "colab_type": "text"
      },
      "source": [
        "### Assumptions"
      ]
    },
    {
      "cell_type": "markdown",
      "metadata": {
        "id": "cw1v_1MMfnAR",
        "colab_type": "text"
      },
      "source": [
        "Insert 10 assumptions for your data model:\n",
        "*  Increase in number of cases\n",
        "*  increase number of deaths \n",
        "*  Increase closures of schools\n",
        "*  Increase of carry out meals\n",
        "*  Increase mask purchases\n",
        "*  Increase stay at home orders\n",
        "*  Increase family time\n",
        "*  Increase Netflix subscriptions\n",
        "*  Decrease in mass gatherings\n",
        "*  Increase online shopping\n",
        "\n"
      ]
    },
    {
      "cell_type": "markdown",
      "metadata": {
        "id": "jKGILpu7gWr6",
        "colab_type": "text"
      },
      "source": [
        "### Data Sources"
      ]
    },
    {
      "cell_type": "markdown",
      "metadata": {
        "id": "uwCao7AtgbNn",
        "colab_type": "text"
      },
      "source": [
        "https://github.com/owid/covid-19-data/tree/master/public/data\n",
        "\n",
        "https://psu.instructure.com/courses/2041088/files/folder/Datasets?preview=108527090\n",
        "\n",
        "We opted to use data sets for the COVID 19 cases. This is something that is very prominent in society today. We are currently consumed by this and our lives have truly shifted. No longer are we allowed to go to the stores without a mask, no longer can we see others without being 6 feet apart… We made the decided to use these two data sets in particular to compare the transition in our lives. What has happened from before spring break to now? Everyday brings a new perspective in this situation.  The first data set is March - right when we had to leave school. The second data set is April - when we had to adjust to our lives being this way even more so. First data set was the same data we used on our previous assignment. We chose to use this data because We were a little more familiar with it and it was something that we could relate to. The second data set we decided to use was found on GitHub. This set of data was able to breakdown from the point that we had left off in March. We found that this was very accurate, and we were able to create many conclusions based on it. Instead of collaborating both these datasets we decided there would be more value in looking at them as a comparison. We decided to do a comparison one above the other - this created a better visual on the change over time."
      ]
    },
    {
      "cell_type": "markdown",
      "metadata": {
        "id": "kDgSdoQUgg2Z",
        "colab_type": "text"
      },
      "source": [
        "#### Sources"
      ]
    },
    {
      "cell_type": "markdown",
      "metadata": {
        "id": "dFzYIi0Agi2_",
        "colab_type": "text"
      },
      "source": [
        "https://github.com/owid/covid-19-data/tree/master/public/data\n",
        "\n",
        "https://psu.instructure.com/courses/2041088/files/folder/Datasets?preview=108527090"
      ]
    },
    {
      "cell_type": "markdown",
      "metadata": {
        "id": "qcFak2v7g3jt",
        "colab_type": "text"
      },
      "source": [
        "## Dashboard (5)"
      ]
    },
    {
      "cell_type": "code",
      "metadata": {
        "id": "knG79vNP0Q0u",
        "colab_type": "code",
        "outputId": "49b7c5ce-c5e9-4773-efa9-e153313735ce",
        "colab": {
          "base_uri": "https://localhost:8080/",
          "height": 951
        }
      },
      "source": [
        "import IPython\n",
        "IPython.display.HTML(\"<div class='tableauPlaceholder' id='viz1587956158854' style='position: relative'><noscript><a href='#'><img alt=' ' src='https:&#47;&#47;public.tableau.com&#47;static&#47;images&#47;Ma&#47;Marchdata_15879561451910&#47;Sheet1&#47;1_rss.png' style='border: none' /></a></noscript><object class='tableauViz'  style='display:none;'><param name='host_url' value='https%3A%2F%2Fpublic.tableau.com%2F' /> <param name='embed_code_version' value='3' /> <param name='site_root' value='' /><param name='name' value='Marchdata_15879561451910&#47;Sheet1' /><param name='tabs' value='no' /><param name='toolbar' value='yes' /><param name='static_image' value='https:&#47;&#47;public.tableau.com&#47;static&#47;images&#47;Ma&#47;Marchdata_15879561451910&#47;Sheet1&#47;1.png' /> <param name='animate_transition' value='yes' /><param name='display_static_image' value='yes' /><param name='display_spinner' value='yes' /><param name='display_overlay' value='yes' /><param name='display_count' value='yes' /><param name='filter' value='publish=yes' /></object></div>                <script type='text/javascript'>                    var divElement = document.getElementById('viz1587956158854');                    var vizElement = divElement.getElementsByTagName('object')[0];                    vizElement.style.width='100%';vizElement.style.height=(divElement.offsetWidth*0.75)+'px';                    var scriptElement = document.createElement('script');                    scriptElement.src = 'https://public.tableau.com/javascripts/api/viz_v1.js';                    vizElement.parentNode.insertBefore(scriptElement, vizElement);                </script>\")"
      ],
      "execution_count": 0,
      "outputs": [
        {
          "output_type": "execute_result",
          "data": {
            "text/html": [
              "<div class='tableauPlaceholder' id='viz1587956158854' style='position: relative'><noscript><a href='#'><img alt=' ' src='https:&#47;&#47;public.tableau.com&#47;static&#47;images&#47;Ma&#47;Marchdata_15879561451910&#47;Sheet1&#47;1_rss.png' style='border: none' /></a></noscript><object class='tableauViz'  style='display:none;'><param name='host_url' value='https%3A%2F%2Fpublic.tableau.com%2F' /> <param name='embed_code_version' value='3' /> <param name='site_root' value='' /><param name='name' value='Marchdata_15879561451910&#47;Sheet1' /><param name='tabs' value='no' /><param name='toolbar' value='yes' /><param name='static_image' value='https:&#47;&#47;public.tableau.com&#47;static&#47;images&#47;Ma&#47;Marchdata_15879561451910&#47;Sheet1&#47;1.png' /> <param name='animate_transition' value='yes' /><param name='display_static_image' value='yes' /><param name='display_spinner' value='yes' /><param name='display_overlay' value='yes' /><param name='display_count' value='yes' /><param name='filter' value='publish=yes' /></object></div>                <script type='text/javascript'>                    var divElement = document.getElementById('viz1587956158854');                    var vizElement = divElement.getElementsByTagName('object')[0];                    vizElement.style.width='100%';vizElement.style.height=(divElement.offsetWidth*0.75)+'px';                    var scriptElement = document.createElement('script');                    scriptElement.src = 'https://public.tableau.com/javascripts/api/viz_v1.js';                    vizElement.parentNode.insertBefore(scriptElement, vizElement);                </script>"
            ],
            "text/plain": [
              "<IPython.core.display.HTML object>"
            ]
          },
          "metadata": {
            "tags": []
          },
          "execution_count": 5
        }
      ]
    },
    {
      "cell_type": "code",
      "metadata": {
        "id": "5IFyYZ7Uk6kx",
        "colab_type": "code",
        "outputId": "852a9a99-97c3-4af5-8a6d-5c2ee92278a9",
        "colab": {
          "base_uri": "https://localhost:8080/",
          "height": 951
        }
      },
      "source": [
        "import IPython\n",
        "IPython.display.HTML(\"<div class='tableauPlaceholder' id='viz1587956385726' style='position: relative'><noscript><a href='#'><img alt=' ' src='https:&#47;&#47;public.tableau.com&#47;static&#47;images&#47;Ap&#47;April2020_15879563752080&#47;Sheet1&#47;1_rss.png' style='border: none' /></a></noscript><object class='tableauViz'  style='display:none;'><param name='host_url' value='https%3A%2F%2Fpublic.tableau.com%2F' /> <param name='embed_code_version' value='3' /> <param name='site_root' value='' /><param name='name' value='April2020_15879563752080&#47;Sheet1' /><param name='tabs' value='no' /><param name='toolbar' value='yes' /><param name='static_image' value='https:&#47;&#47;public.tableau.com&#47;static&#47;images&#47;Ap&#47;April2020_15879563752080&#47;Sheet1&#47;1.png' /> <param name='animate_transition' value='yes' /><param name='display_static_image' value='yes' /><param name='display_spinner' value='yes' /><param name='display_overlay' value='yes' /><param name='display_count' value='yes' /><param name='filter' value='publish=yes' /></object></div>                <script type='text/javascript'>                    var divElement = document.getElementById('viz1587956385726');                    var vizElement = divElement.getElementsByTagName('object')[0];                    vizElement.style.width='100%';vizElement.style.height=(divElement.offsetWidth*0.75)+'px';                    var scriptElement = document.createElement('script');                    scriptElement.src = 'https://public.tableau.com/javascripts/api/viz_v1.js';                    vizElement.parentNode.insertBefore(scriptElement, vizElement);                </script>\")"
      ],
      "execution_count": 0,
      "outputs": [
        {
          "output_type": "execute_result",
          "data": {
            "text/html": [
              "<div class='tableauPlaceholder' id='viz1587956385726' style='position: relative'><noscript><a href='#'><img alt=' ' src='https:&#47;&#47;public.tableau.com&#47;static&#47;images&#47;Ap&#47;April2020_15879563752080&#47;Sheet1&#47;1_rss.png' style='border: none' /></a></noscript><object class='tableauViz'  style='display:none;'><param name='host_url' value='https%3A%2F%2Fpublic.tableau.com%2F' /> <param name='embed_code_version' value='3' /> <param name='site_root' value='' /><param name='name' value='April2020_15879563752080&#47;Sheet1' /><param name='tabs' value='no' /><param name='toolbar' value='yes' /><param name='static_image' value='https:&#47;&#47;public.tableau.com&#47;static&#47;images&#47;Ap&#47;April2020_15879563752080&#47;Sheet1&#47;1.png' /> <param name='animate_transition' value='yes' /><param name='display_static_image' value='yes' /><param name='display_spinner' value='yes' /><param name='display_overlay' value='yes' /><param name='display_count' value='yes' /><param name='filter' value='publish=yes' /></object></div>                <script type='text/javascript'>                    var divElement = document.getElementById('viz1587956385726');                    var vizElement = divElement.getElementsByTagName('object')[0];                    vizElement.style.width='100%';vizElement.style.height=(divElement.offsetWidth*0.75)+'px';                    var scriptElement = document.createElement('script');                    scriptElement.src = 'https://public.tableau.com/javascripts/api/viz_v1.js';                    vizElement.parentNode.insertBefore(scriptElement, vizElement);                </script>"
            ],
            "text/plain": [
              "<IPython.core.display.HTML object>"
            ]
          },
          "metadata": {
            "tags": []
          },
          "execution_count": 1
        }
      ]
    },
    {
      "cell_type": "markdown",
      "metadata": {
        "id": "SvWfnlDjnos1",
        "colab_type": "text"
      },
      "source": [
        "## Conclusion"
      ]
    },
    {
      "cell_type": "markdown",
      "metadata": {
        "id": "rfWefr2gnxOG",
        "colab_type": "text"
      },
      "source": [
        "As visualized by the March 2020 and April 2020 graphs with the COVID-19 Average Total Amount of Cases, the number of cases is increasing day to day in the United States. In early March the number of cases was relatively low compared to what they would soon become. Up until March 16, there were less than 5,000 average cases. Then things started to change drastically. Around mid to late March, the cases began to grow exponentially. March 18 had 7,783 average cases and by March 26 there were 83,836 average cases. This is when things began to get really serious in our day to day lives. No more school, social distancing, essential workers only, etc. and it really impacted peoples lives. There was an increase in the number of cases, number of deaths, closures of schools, carry out meals, mask purchases, stay at home orders, family time, Netflix subscriptions, online shopping and a decrease in mass gatherings. When we get to the April 2020 COVID-19 Cases data, the graph definitely looks different at the initial glance. The data is no longer growing exponentially, but instead it is linear. The data points are also all so much higher than the March 2020 data. The lowest average total case is now 189,618 on April 1 as opposed to the lowest average case of 74 in March 2020 (March 1). This change is drastic. The data is growing consistently steady all throughout April and the most recent average total case amount is 939,053 on April 26. By looking at the trends for the graphs, we can assume that all of our assumptions (increase in the number of cases, number of deaths, closures of schools, carry out meals, mask purchases, stay at home orders, family time, Netflix subscriptions, online shopping and a decrease in mass gatherings) were growing exponentially during the month of March. For the April 2020 data, we can assume that the assumptions increase in the number of cases, number of deaths, closures of schools, carry out meals, mask purchases, stay at home orders, family time, Netflix subscriptions, online shopping and a decrease in mass gatherings are also now following a linear trend as opposed to an exponential trend in the previous month. We believe we successfully achieved all of our previously stated goals. We accurately and effectively displayed the changes of data for COVID 19. We were able to visually see the latest trends up to this date and time. The graphs depicted clearly show and display the data clearly so it is visible to the viewer / reader to see and interpret the data correctly, efficiently and effectively. Although the number of cases in April 2020 is alarmingly high compared to the amount of cases in March 2020, one of the most valuable things we learned by visualizing these two data sets is that the speed that the data is growing at has slowed down significantly compared to the speed that it was growing at in March. "
      ]
    }
  ]
}